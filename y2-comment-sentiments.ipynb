{
 "cells": [
  {
   "cell_type": "markdown",
   "metadata": {},
   "source": [
    "# NLTK VADER sentiment analysis"
   ]
  },
  {
   "cell_type": "markdown",
   "metadata": {},
   "source": [
    "Importing necessary libraries"
   ]
  },
  {
   "cell_type": "code",
   "execution_count": 11,
   "metadata": {},
   "outputs": [],
   "source": [
    "import googleapiclient.discovery\n",
    "import googleapiclient.errors\n",
    "import pandas as pd\n",
    "import re\n",
    "import string\n",
    "\n",
    "# Import API key from config.py\n",
    "from config import API_KEY"
   ]
  },
  {
   "cell_type": "markdown",
   "metadata": {},
   "source": [
    "Setting up the YouTube API"
   ]
  },
  {
   "cell_type": "code",
   "execution_count": 12,
   "metadata": {},
   "outputs": [
    {
     "data": {
      "text/html": [
       "<div>\n",
       "<style scoped>\n",
       "    .dataframe tbody tr th:only-of-type {\n",
       "        vertical-align: middle;\n",
       "    }\n",
       "\n",
       "    .dataframe tbody tr th {\n",
       "        vertical-align: top;\n",
       "    }\n",
       "\n",
       "    .dataframe thead th {\n",
       "        text-align: right;\n",
       "    }\n",
       "</style>\n",
       "<table border=\"1\" class=\"dataframe\">\n",
       "  <thead>\n",
       "    <tr style=\"text-align: right;\">\n",
       "      <th></th>\n",
       "      <th>comment</th>\n",
       "    </tr>\n",
       "  </thead>\n",
       "  <tbody>\n",
       "    <tr>\n",
       "      <th>0</th>\n",
       "      <td>Test your Office know-how with The Office Holi...</td>\n",
       "    </tr>\n",
       "    <tr>\n",
       "      <th>1</th>\n",
       "      <td>&amp;quot;I threw the keys in out of anger&amp;quot; &lt;...</td>\n",
       "    </tr>\n",
       "    <tr>\n",
       "      <th>2</th>\n",
       "      <td>phyllis snorting &amp;amp; dwight opening the door...</td>\n",
       "    </tr>\n",
       "    <tr>\n",
       "      <th>3</th>\n",
       "      <td>Tho half of this actually made the final cut ..</td>\n",
       "    </tr>\n",
       "    <tr>\n",
       "      <th>4</th>\n",
       "      <td>&lt;a href=\"https://www.youtube.com/watch?v=pL064...</td>\n",
       "    </tr>\n",
       "    <tr>\n",
       "      <th>5</th>\n",
       "      <td>what do you mean so we don&amp;#39;t have to?..the...</td>\n",
       "    </tr>\n",
       "    <tr>\n",
       "      <th>6</th>\n",
       "      <td>How is Michael more mature in the deleted scenes</td>\n",
       "    </tr>\n",
       "    <tr>\n",
       "      <th>7</th>\n",
       "      <td>Why were these scenes deleted is all I want to...</td>\n",
       "    </tr>\n",
       "    <tr>\n",
       "      <th>8</th>\n",
       "      <td>Not Michael calling Pam pervy.. 😭😂</td>\n",
       "    </tr>\n",
       "    <tr>\n",
       "      <th>9</th>\n",
       "      <td>I love the self awareness @&lt;a href=\"https://ww...</td>\n",
       "    </tr>\n",
       "  </tbody>\n",
       "</table>\n",
       "</div>"
      ],
      "text/plain": [
       "                                             comment\n",
       "0  Test your Office know-how with The Office Holi...\n",
       "1  &quot;I threw the keys in out of anger&quot; <...\n",
       "2  phyllis snorting &amp; dwight opening the door...\n",
       "3    Tho half of this actually made the final cut ..\n",
       "4  <a href=\"https://www.youtube.com/watch?v=pL064...\n",
       "5  what do you mean so we don&#39;t have to?..the...\n",
       "6   How is Michael more mature in the deleted scenes\n",
       "7  Why were these scenes deleted is all I want to...\n",
       "8                 Not Michael calling Pam pervy.. 😭😂\n",
       "9  I love the self awareness @<a href=\"https://ww..."
      ]
     },
     "execution_count": 12,
     "metadata": {},
     "output_type": "execute_result"
    }
   ],
   "source": [
    "api_service_name = \"youtube\"\n",
    "api_version = \"v3\"\n",
    "\n",
    "youtube = googleapiclient.discovery.build(\n",
    "    api_service_name, api_version, developerKey=API_KEY)\n",
    "\n",
    "# Request video comments and store in dataframe\n",
    "request = youtube.commentThreads().list(\n",
    "    part=\"snippet\",\n",
    "    videoId=\"pL064KP46UE\",\n",
    "    maxResults=100\n",
    ")\n",
    "response = request.execute()\n",
    "\n",
    "comments = []\n",
    "\n",
    "# Loop through response and store comments in list. Retrieves the snippet of the top level comment and the text display\n",
    "# top level comment is the comment that is not a reply to another comment\n",
    "for item in response['items']:\n",
    "    comment_text = item['snippet']['topLevelComment']['snippet']['textDisplay']\n",
    "    comments.append(comment_text)\n",
    "\n",
    "df = pd.DataFrame(comments, columns=['comment'])\n",
    "\n",
    "# df.to_csv('comments.csv', index=False)\n",
    "\n",
    "df.head(10)"
   ]
  },
  {
   "cell_type": "code",
   "execution_count": 13,
   "metadata": {},
   "outputs": [
    {
     "name": "stdout",
     "output_type": "stream",
     "text": [
      "comment    object\n",
      "dtype: object\n"
     ]
    }
   ],
   "source": [
    "# data type of the dataframe\n",
    "print(df.dtypes)"
   ]
  },
  {
   "cell_type": "markdown",
   "metadata": {},
   "source": [
    "Downloading resources and setting up the model"
   ]
  },
  {
   "cell_type": "code",
   "execution_count": 14,
   "metadata": {},
   "outputs": [],
   "source": [
    "from nltk.corpus import stopwords\n",
    "from nltk.tokenize import word_tokenize\n",
    "from nltk.sentiment import SentimentIntensityAnalyzer\n",
    "import nltk\n",
    "\n",
    "# nltk.download('punkt') # one time execution\n",
    "# nltk.download('stopwords') # one time execution\n",
    "# nltk.download('vader_lexicon') # one time execution"
   ]
  },
  {
   "cell_type": "markdown",
   "metadata": {},
   "source": [
    "Preprocessing the data"
   ]
  },
  {
   "cell_type": "code",
   "execution_count": 15,
   "metadata": {},
   "outputs": [],
   "source": [
    "def preprocess_comment(comment):\n",
    "    # Remove HTML tags\n",
    "    comment = re.sub(r'<.*?>', '', comment)\n",
    "\n",
    "    # Replace HTML character codes with ASCII equivalent\n",
    "    comment = re.sub(r'&amp;', '&', comment)\n",
    "    comment = re.sub(r'&quot;', '\"', comment)\n",
    "    comment = re.sub(r'&#39;', \"'\", comment)\n",
    "\n",
    "    # Convert text to lowercase\n",
    "    comment = comment.lower()\n",
    "\n",
    "    # Remove URLs\n",
    "    comment = re.sub(r'http\\S+', '', comment)\n",
    "\n",
    "    # Remove punctuation (optional: consider keeping emoticons)\n",
    "    comment = comment.translate(str.maketrans('', '', string.punctuation))\n",
    "\n",
    "    # Tokenize and remove stopwords\n",
    "    stop_words = set(stopwords.words('english'))\n",
    "    word_tokens = word_tokenize(comment)\n",
    "    filtered_comment = [word for word in word_tokens if word not in stop_words]\n",
    "\n",
    "    return ' '.join(filtered_comment)"
   ]
  },
  {
   "cell_type": "code",
   "execution_count": 16,
   "metadata": {},
   "outputs": [],
   "source": [
    "# Apply preprocessing to each comment\n",
    "df['processed_comment'] = df['comment'].apply(preprocess_comment)"
   ]
  },
  {
   "cell_type": "markdown",
   "metadata": {},
   "source": [
    "Defining and applying sentiment analysis function"
   ]
  },
  {
   "cell_type": "code",
   "execution_count": 17,
   "metadata": {},
   "outputs": [],
   "source": [
    "def analyze_sentiment_vader(comment):\n",
    "    sia = SentimentIntensityAnalyzer()\n",
    "    score = sia.polarity_scores(comment)\n",
    "    compound = score['compound']\n",
    "    if compound >= 0.05:\n",
    "        return 'Positive'\n",
    "    elif compound <= -0.05:\n",
    "        return 'Negative'\n",
    "    else:\n",
    "        return 'Neutral'"
   ]
  },
  {
   "cell_type": "markdown",
   "metadata": {},
   "source": [
    "Collating the results and displaying the dataframe"
   ]
  },
  {
   "cell_type": "code",
   "execution_count": 18,
   "metadata": {},
   "outputs": [
    {
     "data": {
      "text/html": [
       "<div>\n",
       "<style scoped>\n",
       "    .dataframe tbody tr th:only-of-type {\n",
       "        vertical-align: middle;\n",
       "    }\n",
       "\n",
       "    .dataframe tbody tr th {\n",
       "        vertical-align: top;\n",
       "    }\n",
       "\n",
       "    .dataframe thead th {\n",
       "        text-align: right;\n",
       "    }\n",
       "</style>\n",
       "<table border=\"1\" class=\"dataframe\">\n",
       "  <thead>\n",
       "    <tr style=\"text-align: right;\">\n",
       "      <th></th>\n",
       "      <th>comment</th>\n",
       "      <th>processed_comment</th>\n",
       "      <th>sentiment</th>\n",
       "    </tr>\n",
       "  </thead>\n",
       "  <tbody>\n",
       "    <tr>\n",
       "      <th>0</th>\n",
       "      <td>Test your Office know-how with The Office Holi...</td>\n",
       "      <td>Test Office know-how The Office Holiday quiz ,...</td>\n",
       "      <td>Positive</td>\n",
       "    </tr>\n",
       "    <tr>\n",
       "      <th>1</th>\n",
       "      <td>&amp;quot;I threw the keys in out of anger&amp;quot; &lt;...</td>\n",
       "      <td>`` I threw keys anger '' Now THAT killed 😂</td>\n",
       "      <td>Negative</td>\n",
       "    </tr>\n",
       "    <tr>\n",
       "      <th>2</th>\n",
       "      <td>phyllis snorting &amp;amp; dwight opening the door...</td>\n",
       "      <td>phyllis snorting &amp; dwight opening door w butt ...</td>\n",
       "      <td>Neutral</td>\n",
       "    </tr>\n",
       "    <tr>\n",
       "      <th>3</th>\n",
       "      <td>Tho half of this actually made the final cut ..</td>\n",
       "      <td>Tho half actually made final cut ..</td>\n",
       "      <td>Negative</td>\n",
       "    </tr>\n",
       "    <tr>\n",
       "      <th>4</th>\n",
       "      <td>&lt;a href=\"https://www.youtube.com/watch?v=pL064...</td>\n",
       "      <td>1:41 love Dwight exhibits objects like art gal...</td>\n",
       "      <td>Positive</td>\n",
       "    </tr>\n",
       "    <tr>\n",
       "      <th>5</th>\n",
       "      <td>what do you mean so we don&amp;#39;t have to?..the...</td>\n",
       "      <td>mean n't ? .. good</td>\n",
       "      <td>Negative</td>\n",
       "    </tr>\n",
       "    <tr>\n",
       "      <th>6</th>\n",
       "      <td>How is Michael more mature in the deleted scenes</td>\n",
       "      <td>How Michael mature deleted scenes</td>\n",
       "      <td>Positive</td>\n",
       "    </tr>\n",
       "    <tr>\n",
       "      <th>7</th>\n",
       "      <td>Why were these scenes deleted is all I want to...</td>\n",
       "      <td>Why scenes deleted I want know ... anyone ?</td>\n",
       "      <td>Positive</td>\n",
       "    </tr>\n",
       "    <tr>\n",
       "      <th>8</th>\n",
       "      <td>Not Michael calling Pam pervy.. 😭😂</td>\n",
       "      <td>Not Michael calling Pam pervy .. 😭😂</td>\n",
       "      <td>Neutral</td>\n",
       "    </tr>\n",
       "    <tr>\n",
       "      <th>9</th>\n",
       "      <td>I love the self awareness @&lt;a href=\"https://ww...</td>\n",
       "      <td>I love self awareness @ 4:12 🤣</td>\n",
       "      <td>Positive</td>\n",
       "    </tr>\n",
       "  </tbody>\n",
       "</table>\n",
       "</div>"
      ],
      "text/plain": [
       "                                             comment  \\\n",
       "0  Test your Office know-how with The Office Holi...   \n",
       "1  &quot;I threw the keys in out of anger&quot; <...   \n",
       "2  phyllis snorting &amp; dwight opening the door...   \n",
       "3    Tho half of this actually made the final cut ..   \n",
       "4  <a href=\"https://www.youtube.com/watch?v=pL064...   \n",
       "5  what do you mean so we don&#39;t have to?..the...   \n",
       "6   How is Michael more mature in the deleted scenes   \n",
       "7  Why were these scenes deleted is all I want to...   \n",
       "8                 Not Michael calling Pam pervy.. 😭😂   \n",
       "9  I love the self awareness @<a href=\"https://ww...   \n",
       "\n",
       "                                   processed_comment sentiment  \n",
       "0  Test Office know-how The Office Holiday quiz ,...  Positive  \n",
       "1         `` I threw keys anger '' Now THAT killed 😂  Negative  \n",
       "2  phyllis snorting & dwight opening door w butt ...   Neutral  \n",
       "3                Tho half actually made final cut ..  Negative  \n",
       "4  1:41 love Dwight exhibits objects like art gal...  Positive  \n",
       "5                                 mean n't ? .. good  Negative  \n",
       "6                  How Michael mature deleted scenes  Positive  \n",
       "7        Why scenes deleted I want know ... anyone ?  Positive  \n",
       "8                Not Michael calling Pam pervy .. 😭😂   Neutral  \n",
       "9                     I love self awareness @ 4:12 🤣  Positive  "
      ]
     },
     "metadata": {},
     "output_type": "display_data"
    }
   ],
   "source": [
    "# Sentiment analysis on the processed comments\n",
    "df['sentiment'] = df['processed_comment'].apply(analyze_sentiment_vader)\n",
    "\n",
    "# df.to_csv('comments_processed.csv', index=False)\n",
    "\n",
    "# Display the DataFrame\n",
    "display(df.head(10))"
   ]
  },
  {
   "cell_type": "code",
   "execution_count": 19,
   "metadata": {},
   "outputs": [
    {
     "data": {
      "text/html": [
       "<div>\n",
       "<style scoped>\n",
       "    .dataframe tbody tr th:only-of-type {\n",
       "        vertical-align: middle;\n",
       "    }\n",
       "\n",
       "    .dataframe tbody tr th {\n",
       "        vertical-align: top;\n",
       "    }\n",
       "\n",
       "    .dataframe thead th {\n",
       "        text-align: right;\n",
       "    }\n",
       "</style>\n",
       "<table border=\"1\" class=\"dataframe\">\n",
       "  <thead>\n",
       "    <tr style=\"text-align: right;\">\n",
       "      <th></th>\n",
       "      <th>processed_comment</th>\n",
       "      <th>sentiment</th>\n",
       "    </tr>\n",
       "  </thead>\n",
       "  <tbody>\n",
       "    <tr>\n",
       "      <th>0</th>\n",
       "      <td>Test Office know-how The Office Holiday quiz ,...</td>\n",
       "      <td>Positive</td>\n",
       "    </tr>\n",
       "    <tr>\n",
       "      <th>1</th>\n",
       "      <td>`` I threw keys anger '' Now THAT killed 😂</td>\n",
       "      <td>Negative</td>\n",
       "    </tr>\n",
       "    <tr>\n",
       "      <th>2</th>\n",
       "      <td>phyllis snorting &amp; dwight opening door w butt ...</td>\n",
       "      <td>Neutral</td>\n",
       "    </tr>\n",
       "    <tr>\n",
       "      <th>3</th>\n",
       "      <td>Tho half actually made final cut ..</td>\n",
       "      <td>Negative</td>\n",
       "    </tr>\n",
       "    <tr>\n",
       "      <th>4</th>\n",
       "      <td>1:41 love Dwight exhibits objects like art gal...</td>\n",
       "      <td>Positive</td>\n",
       "    </tr>\n",
       "    <tr>\n",
       "      <th>5</th>\n",
       "      <td>mean n't ? .. good</td>\n",
       "      <td>Negative</td>\n",
       "    </tr>\n",
       "    <tr>\n",
       "      <th>6</th>\n",
       "      <td>How Michael mature deleted scenes</td>\n",
       "      <td>Positive</td>\n",
       "    </tr>\n",
       "    <tr>\n",
       "      <th>7</th>\n",
       "      <td>Why scenes deleted I want know ... anyone ?</td>\n",
       "      <td>Positive</td>\n",
       "    </tr>\n",
       "    <tr>\n",
       "      <th>8</th>\n",
       "      <td>Not Michael calling Pam pervy .. 😭😂</td>\n",
       "      <td>Neutral</td>\n",
       "    </tr>\n",
       "    <tr>\n",
       "      <th>9</th>\n",
       "      <td>I love self awareness @ 4:12 🤣</td>\n",
       "      <td>Positive</td>\n",
       "    </tr>\n",
       "  </tbody>\n",
       "</table>\n",
       "</div>"
      ],
      "text/plain": [
       "                                   processed_comment sentiment\n",
       "0  Test Office know-how The Office Holiday quiz ,...  Positive\n",
       "1         `` I threw keys anger '' Now THAT killed 😂  Negative\n",
       "2  phyllis snorting & dwight opening door w butt ...   Neutral\n",
       "3                Tho half actually made final cut ..  Negative\n",
       "4  1:41 love Dwight exhibits objects like art gal...  Positive\n",
       "5                                 mean n't ? .. good  Negative\n",
       "6                  How Michael mature deleted scenes  Positive\n",
       "7        Why scenes deleted I want know ... anyone ?  Positive\n",
       "8                Not Michael calling Pam pervy .. 😭😂   Neutral\n",
       "9                     I love self awareness @ 4:12 🤣  Positive"
      ]
     },
     "metadata": {},
     "output_type": "display_data"
    }
   ],
   "source": [
    "processed_df = df.drop(columns=['comment'])\n",
    "\n",
    "# Save to csv\n",
    "# processed_df.to_csv('comments_processed.csv', index=False)\n",
    "\n",
    "# Display the DataFrame\n",
    "display(processed_df.head(10))"
   ]
  },
  {
   "cell_type": "markdown",
   "metadata": {},
   "source": [
    "Evaluating the processed data"
   ]
  },
  {
   "cell_type": "code",
   "execution_count": 20,
   "metadata": {},
   "outputs": [
    {
     "name": "stdout",
     "output_type": "stream",
     "text": [
      "Percentage of positive comments: 44.00%\n",
      "Percentage of negative comments: 21.00%\n",
      "Percentage of neutral comments: 35.00%\n"
     ]
    },
    {
     "data": {
      "image/png": "[encoded data removed]",
      "text/plain": [
       "<Figure size 640x480 with 1 Axes>"
      ]
     },
     "metadata": {},
     "output_type": "display_data"
    }
   ],
   "source": [
    "import matplotlib.pyplot as plt\n",
    "import seaborn as sns\n",
    "\n",
    "# Calculate the percentage of positive, negative and neutral comments\n",
    "positive_comments = processed_df[processed_df['sentiment'] == 'Positive']\n",
    "negative_comments = processed_df[processed_df['sentiment'] == 'Negative']\n",
    "neutral_comments = processed_df[processed_df['sentiment'] == 'Neutral']\n",
    "\n",
    "print('Percentage of positive comments: {:.2f}%'.format(len(positive_comments) / len(processed_df) * 100))\n",
    "print('Percentage of negative comments: {:.2f}%'.format(len(negative_comments) / len(processed_df) * 100))\n",
    "print('Percentage of neutral comments: {:.2f}%'.format(len(neutral_comments) / len(processed_df) * 100))\n",
    "\n",
    "\n",
    "# Plot the sentiment distribution\n",
    "sns.set_style('whitegrid')\n",
    "sns.countplot(x='sentiment', data=processed_df)\n",
    "plt.title('Sentiment Distribution')\n",
    "plt.xlabel('Sentiment')\n",
    "plt.ylabel('Count')\n",
    "plt.show()"
   ]
  }
 ],
 "metadata": {
  "kernelspec": {
   "display_name": "Python 3",
   "language": "python",
   "name": "python3"
  },
  "language_info": {
   "codemirror_mode": {
    "name": "ipython",
    "version": 3
   },
   "file_extension": ".py",
   "mimetype": "text/x-python",
   "name": "python",
   "nbconvert_exporter": "python",
   "pygments_lexer": "ipython3",
   "version": "3.11.2"
  }
 },
 "nbformat": 4,
 "nbformat_minor": 2
}
