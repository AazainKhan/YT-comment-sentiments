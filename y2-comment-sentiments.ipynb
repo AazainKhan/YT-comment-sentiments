{
 "cells": [
  {
   "cell_type": "code",
   "execution_count": 6,
   "metadata": {},
   "outputs": [],
   "source": [
    "import requests\n",
    "from bs4 import BeautifulSoup\n",
    "from googleapiclient.discovery import build\n",
    "from googleapiclient.errors import HttpError\n",
    "from textblob import TextBlob\n",
    "# Import API key from config.py\n",
    "from config import API_KEY"
   ]
  },
  {
   "cell_type": "code",
   "execution_count": 7,
   "metadata": {},
   "outputs": [],
   "source": [
    "# Function to fetch video comments\n",
    "def get_video_comments(video_id):\n",
    "    try:\n",
    "        youtube = build('youtube', 'v3', developerKey=API_KEY)\n",
    "        results = youtube.commentThreads().list(\n",
    "            part='snippet',\n",
    "            videoId=video_id,\n",
    "            textFormat='plainText'\n",
    "        ).execute()\n",
    "        comments = []\n",
    "        for item in results['items']:\n",
    "            comment = item['snippet']['topLevelComment']['snippet']['textDisplay']\n",
    "            comments.append(comment)\n",
    "        return comments\n",
    "    except HttpError as e:\n",
    "        print(f'Error fetching comments: {str(e)}')\n",
    "        return []\n"
   ]
  },
  {
   "cell_type": "code",
   "execution_count": 8,
   "metadata": {},
   "outputs": [],
   "source": [
    "# Function to perform sentiment analysis\n",
    "def analyze_sentiment(comments):\n",
    "    positive = 0\n",
    "    neutral = 0\n",
    "    negative = 0\n",
    "    total_comments = len(comments)\n",
    "    \n",
    "    if total_comments == 0:\n",
    "        return {\n",
    "            'Positive': 0,\n",
    "            'Neutral': 0,\n",
    "            'Negative': 0,\n",
    "        }\n",
    "    \n",
    "    for comment in comments:\n",
    "        analysis = TextBlob(comment)\n",
    "        sentiment = analysis.sentiment.polarity\n",
    "        if sentiment > 0:\n",
    "            positive += 1\n",
    "        elif sentiment < 0:\n",
    "            negative += 1\n",
    "        else:\n",
    "            neutral += 1\n",
    "    \n",
    "    return {\n",
    "        'Positive': (positive / total_comments) * 100,\n",
    "        'Neutral': (neutral / total_comments) * 100,\n",
    "        'Negative': (negative / total_comments) * 100,\n",
    "    }\n"
   ]
  },
  {
   "cell_type": "code",
   "execution_count": 9,
   "metadata": {},
   "outputs": [],
   "source": [
    "# Main function\n",
    "def main():\n",
    "    video_url = input('Enter the YouTube video URL: ')\n",
    "    video_id = video_url.split('v=')[1]\n",
    "    comments = get_video_comments(video_id)\n",
    "    sentiment_analysis = analyze_sentiment(comments)\n",
    "    print('Sentiment Analysis of Comments:')\n",
    "    for sentiment, percentage in sentiment_analysis.items():\n",
    "        print(f'{sentiment}: {percentage:.2f}%')\n"
   ]
  },
  {
   "cell_type": "code",
   "execution_count": 10,
   "metadata": {},
   "outputs": [
    {
     "name": "stdout",
     "output_type": "stream",
     "text": [
      "Sentiment Analysis of Comments:\n",
      "Positive: 40.00%\n",
      "Neutral: 50.00%\n",
      "Negative: 10.00%\n"
     ]
    }
   ],
   "source": [
    "if __name__ == '__main__':\n",
    "    main()\n"
   ]
  }
 ],
 "metadata": {
  "kernelspec": {
   "display_name": "Python 3",
   "language": "python",
   "name": "python3"
  },
  "language_info": {
   "codemirror_mode": {
    "name": "ipython",
    "version": 3
   },
   "file_extension": ".py",
   "mimetype": "text/x-python",
   "name": "python",
   "nbconvert_exporter": "python",
   "pygments_lexer": "ipython3",
   "version": "3.11.2"
  }
 },
 "nbformat": 4,
 "nbformat_minor": 2
}
