{
 "cells": [
  {
   "cell_type": "code",
   "execution_count": 37,
   "metadata": {},
   "outputs": [],
   "source": [
    "import googleapiclient.discovery\n",
    "import googleapiclient.errors\n",
    "import pandas as pd\n",
    "import re\n",
    "import string\n",
    "\n",
    "# Import API key from config.py\n",
    "from config import API_KEY"
   ]
  },
  {
   "cell_type": "code",
   "execution_count": 46,
   "metadata": {},
   "outputs": [
    {
     "data": {
      "text/html": [
       "<div>\n",
       "<style scoped>\n",
       "    .dataframe tbody tr th:only-of-type {\n",
       "        vertical-align: middle;\n",
       "    }\n",
       "\n",
       "    .dataframe tbody tr th {\n",
       "        vertical-align: top;\n",
       "    }\n",
       "\n",
       "    .dataframe thead th {\n",
       "        text-align: right;\n",
       "    }\n",
       "</style>\n",
       "<table border=\"1\" class=\"dataframe\">\n",
       "  <thead>\n",
       "    <tr style=\"text-align: right;\">\n",
       "      <th></th>\n",
       "      <th>comment</th>\n",
       "    </tr>\n",
       "  </thead>\n",
       "  <tbody>\n",
       "    <tr>\n",
       "      <th>0</th>\n",
       "      <td>Test your Office know-how with The Office Holi...</td>\n",
       "    </tr>\n",
       "    <tr>\n",
       "      <th>1</th>\n",
       "      <td>&amp;quot;I threw the keys in out of anger&amp;quot; &lt;...</td>\n",
       "    </tr>\n",
       "    <tr>\n",
       "      <th>2</th>\n",
       "      <td>phyllis snorting &amp;amp; dwight opening the door...</td>\n",
       "    </tr>\n",
       "    <tr>\n",
       "      <th>3</th>\n",
       "      <td>Tho half of this actually made the final cut ..</td>\n",
       "    </tr>\n",
       "    <tr>\n",
       "      <th>4</th>\n",
       "      <td>&lt;a href=\"https://www.youtube.com/watch?v=pL064...</td>\n",
       "    </tr>\n",
       "    <tr>\n",
       "      <th>...</th>\n",
       "      <td>...</td>\n",
       "    </tr>\n",
       "    <tr>\n",
       "      <th>95</th>\n",
       "      <td>I threw my keys in out of anger</td>\n",
       "    </tr>\n",
       "    <tr>\n",
       "      <th>96</th>\n",
       "      <td>When Creed says does it have to be clean..... ...</td>\n",
       "    </tr>\n",
       "    <tr>\n",
       "      <th>97</th>\n",
       "      <td>&lt;a href=\"https://www.youtube.com/watch?v=pL064...</td>\n",
       "    </tr>\n",
       "    <tr>\n",
       "      <th>98</th>\n",
       "      <td>That toilet mesh invention needs to be a real ...</td>\n",
       "    </tr>\n",
       "    <tr>\n",
       "      <th>99</th>\n",
       "      <td>Ryan kissing his mom 😭</td>\n",
       "    </tr>\n",
       "  </tbody>\n",
       "</table>\n",
       "<p>100 rows × 1 columns</p>\n",
       "</div>"
      ],
      "text/plain": [
       "                                              comment\n",
       "0   Test your Office know-how with The Office Holi...\n",
       "1   &quot;I threw the keys in out of anger&quot; <...\n",
       "2   phyllis snorting &amp; dwight opening the door...\n",
       "3     Tho half of this actually made the final cut ..\n",
       "4   <a href=\"https://www.youtube.com/watch?v=pL064...\n",
       "..                                                ...\n",
       "95                    I threw my keys in out of anger\n",
       "96  When Creed says does it have to be clean..... ...\n",
       "97  <a href=\"https://www.youtube.com/watch?v=pL064...\n",
       "98  That toilet mesh invention needs to be a real ...\n",
       "99                             Ryan kissing his mom 😭\n",
       "\n",
       "[100 rows x 1 columns]"
      ]
     },
     "execution_count": 46,
     "metadata": {},
     "output_type": "execute_result"
    }
   ],
   "source": [
    "api_service_name = \"youtube\"\n",
    "api_version = \"v3\"\n",
    "\n",
    "youtube = googleapiclient.discovery.build(\n",
    "    api_service_name, api_version, developerKey=API_KEY)\n",
    "\n",
    "request = youtube.commentThreads().list(\n",
    "    part=\"snippet\",\n",
    "    videoId=\"pL064KP46UE\",\n",
    "    maxResults=100\n",
    ")\n",
    "response = request.execute()\n",
    "\n",
    "comments = []\n",
    "\n",
    "for item in response['items']:\n",
    "    comment_text = item['snippet']['topLevelComment']['snippet']['textDisplay']\n",
    "    comments.append(comment_text)\n",
    "\n",
    "df = pd.DataFrame(comments, columns=['comment'])\n",
    "\n",
    "# df.to_csv('comments.csv', index=False)\n",
    "\n",
    "df.head(100)"
   ]
  },
  {
   "cell_type": "code",
   "execution_count": 39,
   "metadata": {},
   "outputs": [
    {
     "name": "stdout",
     "output_type": "stream",
     "text": [
      "comment    object\n",
      "dtype: object\n"
     ]
    }
   ],
   "source": [
    "# data type of the dataframe\n",
    "print(df.dtypes)"
   ]
  },
  {
   "cell_type": "code",
   "execution_count": 40,
   "metadata": {},
   "outputs": [
    {
     "name": "stderr",
     "output_type": "stream",
     "text": [
      "[nltk_data] Downloading package punkt to /Users/aazain/nltk_data...\n",
      "[nltk_data]   Package punkt is already up-to-date!\n",
      "[nltk_data] Downloading package stopwords to\n",
      "[nltk_data]     /Users/aazain/nltk_data...\n",
      "[nltk_data]   Package stopwords is already up-to-date!\n",
      "[nltk_data] Downloading package vader_lexicon to\n",
      "[nltk_data]     /Users/aazain/nltk_data...\n",
      "[nltk_data]   Package vader_lexicon is already up-to-date!\n"
     ]
    },
    {
     "data": {
      "text/plain": [
       "True"
      ]
     },
     "execution_count": 40,
     "metadata": {},
     "output_type": "execute_result"
    }
   ],
   "source": [
    "from nltk.corpus import stopwords\n",
    "from nltk.tokenize import word_tokenize\n",
    "from nltk.sentiment import SentimentIntensityAnalyzer\n",
    "import nltk\n",
    "\n",
    "nltk.download('punkt')\n",
    "nltk.download('stopwords')\n",
    "nltk.download('vader_lexicon')"
   ]
  },
  {
   "cell_type": "code",
   "execution_count": 41,
   "metadata": {},
   "outputs": [],
   "source": [
    "def preprocess_text(text):\n",
    "    # Remove HTML tags\n",
    "    text = re.sub(r'<.*?>', '', text)\n",
    "\n",
    "    # Convert text to lowercase\n",
    "    text = text.lower()\n",
    "\n",
    "    # Remove punctuation\n",
    "    text = text.translate(str.maketrans('', '', string.punctuation))\n",
    "\n",
    "    # Remove stopwords\n",
    "    stop_words = set(stopwords.words('english'))\n",
    "    word_tokens = word_tokenize(text)\n",
    "    filtered_text = [word for word in word_tokens if word not in stop_words]\n",
    "\n",
    "    return ' '.join(filtered_text)"
   ]
  },
  {
   "cell_type": "code",
   "execution_count": 42,
   "metadata": {},
   "outputs": [],
   "source": [
    "# Apply preprocessing to each comment\n",
    "df['processed_comment'] = df['comment'].apply(preprocess_text)"
   ]
  },
  {
   "cell_type": "code",
   "execution_count": 43,
   "metadata": {},
   "outputs": [],
   "source": [
    "def analyze_sentiment_vader(comment):\n",
    "    sia = SentimentIntensityAnalyzer()\n",
    "    score = sia.polarity_scores(comment)\n",
    "    compound = score['compound']\n",
    "    if compound >= 0.05:\n",
    "        return 'Positive'\n",
    "    elif compound <= -0.05:\n",
    "        return 'Negative'\n",
    "    else:\n",
    "        return 'Neutral'\n"
   ]
  },
  {
   "cell_type": "code",
   "execution_count": 44,
   "metadata": {},
   "outputs": [
    {
     "data": {
      "text/html": [
       "<div>\n",
       "<style scoped>\n",
       "    .dataframe tbody tr th:only-of-type {\n",
       "        vertical-align: middle;\n",
       "    }\n",
       "\n",
       "    .dataframe tbody tr th {\n",
       "        vertical-align: top;\n",
       "    }\n",
       "\n",
       "    .dataframe thead th {\n",
       "        text-align: right;\n",
       "    }\n",
       "</style>\n",
       "<table border=\"1\" class=\"dataframe\">\n",
       "  <thead>\n",
       "    <tr style=\"text-align: right;\">\n",
       "      <th></th>\n",
       "      <th>comment</th>\n",
       "      <th>processed_comment</th>\n",
       "      <th>sentiment</th>\n",
       "    </tr>\n",
       "  </thead>\n",
       "  <tbody>\n",
       "    <tr>\n",
       "      <th>0</th>\n",
       "      <td>Test your Office know-how with The Office Holi...</td>\n",
       "      <td>test office knowhow office holiday quiz premie...</td>\n",
       "      <td>Positive</td>\n",
       "    </tr>\n",
       "    <tr>\n",
       "      <th>1</th>\n",
       "      <td>&amp;quot;I threw the keys in out of anger&amp;quot; &lt;...</td>\n",
       "      <td>quoti threw keys angerquot killed 😂</td>\n",
       "      <td>Negative</td>\n",
       "    </tr>\n",
       "    <tr>\n",
       "      <th>2</th>\n",
       "      <td>phyllis snorting &amp;amp; dwight opening the door...</td>\n",
       "      <td>phyllis snorting amp dwight opening door w but...</td>\n",
       "      <td>Neutral</td>\n",
       "    </tr>\n",
       "    <tr>\n",
       "      <th>3</th>\n",
       "      <td>Tho half of this actually made the final cut ..</td>\n",
       "      <td>tho half actually made final cut</td>\n",
       "      <td>Negative</td>\n",
       "    </tr>\n",
       "    <tr>\n",
       "      <th>4</th>\n",
       "      <td>&lt;a href=\"https://www.youtube.com/watch?v=pL064...</td>\n",
       "      <td>141 love dwight exhibits objects like art gall...</td>\n",
       "      <td>Positive</td>\n",
       "    </tr>\n",
       "    <tr>\n",
       "      <th>5</th>\n",
       "      <td>what do you mean so we don&amp;#39;t have to?..the...</td>\n",
       "      <td>mean don39t tothese good</td>\n",
       "      <td>Positive</td>\n",
       "    </tr>\n",
       "    <tr>\n",
       "      <th>6</th>\n",
       "      <td>How is Michael more mature in the deleted scenes</td>\n",
       "      <td>michael mature deleted scenes</td>\n",
       "      <td>Positive</td>\n",
       "    </tr>\n",
       "    <tr>\n",
       "      <th>7</th>\n",
       "      <td>Why were these scenes deleted is all I want to...</td>\n",
       "      <td>scenes deleted want knowanyone</td>\n",
       "      <td>Positive</td>\n",
       "    </tr>\n",
       "    <tr>\n",
       "      <th>8</th>\n",
       "      <td>Not Michael calling Pam pervy.. 😭😂</td>\n",
       "      <td>michael calling pam pervy 😭😂</td>\n",
       "      <td>Neutral</td>\n",
       "    </tr>\n",
       "    <tr>\n",
       "      <th>9</th>\n",
       "      <td>I love the self awareness @&lt;a href=\"https://ww...</td>\n",
       "      <td>love self awareness 412 🤣</td>\n",
       "      <td>Positive</td>\n",
       "    </tr>\n",
       "  </tbody>\n",
       "</table>\n",
       "</div>"
      ],
      "text/plain": [
       "                                             comment  \\\n",
       "0  Test your Office know-how with The Office Holi...   \n",
       "1  &quot;I threw the keys in out of anger&quot; <...   \n",
       "2  phyllis snorting &amp; dwight opening the door...   \n",
       "3    Tho half of this actually made the final cut ..   \n",
       "4  <a href=\"https://www.youtube.com/watch?v=pL064...   \n",
       "5  what do you mean so we don&#39;t have to?..the...   \n",
       "6   How is Michael more mature in the deleted scenes   \n",
       "7  Why were these scenes deleted is all I want to...   \n",
       "8                 Not Michael calling Pam pervy.. 😭😂   \n",
       "9  I love the self awareness @<a href=\"https://ww...   \n",
       "\n",
       "                                   processed_comment sentiment  \n",
       "0  test office knowhow office holiday quiz premie...  Positive  \n",
       "1                quoti threw keys angerquot killed 😂  Negative  \n",
       "2  phyllis snorting amp dwight opening door w but...   Neutral  \n",
       "3                   tho half actually made final cut  Negative  \n",
       "4  141 love dwight exhibits objects like art gall...  Positive  \n",
       "5                           mean don39t tothese good  Positive  \n",
       "6                      michael mature deleted scenes  Positive  \n",
       "7                     scenes deleted want knowanyone  Positive  \n",
       "8                       michael calling pam pervy 😭😂   Neutral  \n",
       "9                          love self awareness 412 🤣  Positive  "
      ]
     },
     "metadata": {},
     "output_type": "display_data"
    }
   ],
   "source": [
    "# Apply sentiment analysis on the processed comments\n",
    "df['sentiment'] = df['processed_comment'].apply(analyze_sentiment_vader)\n",
    "\n",
    "# Display the DataFrame\n",
    "display(df.head(10))\n"
   ]
  }
 ],
 "metadata": {
  "kernelspec": {
   "display_name": "Python 3",
   "language": "python",
   "name": "python3"
  },
  "language_info": {
   "codemirror_mode": {
    "name": "ipython",
    "version": 3
   },
   "file_extension": ".py",
   "mimetype": "text/x-python",
   "name": "python",
   "nbconvert_exporter": "python",
   "pygments_lexer": "ipython3",
   "version": "3.11.2"
  }
 },
 "nbformat": 4,
 "nbformat_minor": 2
}
